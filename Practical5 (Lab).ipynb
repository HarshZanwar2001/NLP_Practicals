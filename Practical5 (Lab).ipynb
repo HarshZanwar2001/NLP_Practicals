{
 "cells": [
  {
   "cell_type": "markdown",
   "id": "2938915d",
   "metadata": {},
   "source": [
    "Name: Harsh Zanwar\n",
    "Roll No.: 73\n",
    "Branch:CSE(AIML)\n",
    "\n",
    "Aim: Named Entity Recognition and Dependency Parsing for Information Extration using spacy.\n",
    "Consider any text file (research article technical blog , any unstructured corpus used before)\n",
    "Perform NER to extract entities from individual   sentences using spacy.\n",
    "use Dependency parsing, POS tagging to extract relationships between the entities.\n",
    "Create a tuple for information extraction\n",
    "T1( Entity1, Entity2, Relation label)\n",
    "Display no of such tuples extracted from considered corpus   as extracted information"
   ]
  },
  {
   "cell_type": "code",
   "execution_count": 1,
   "id": "01197660",
   "metadata": {},
   "outputs": [
    {
     "name": "stderr",
     "output_type": "stream",
     "text": [
      "[nltk_data] Downloading package genesis to\n",
      "[nltk_data]     C:\\Users\\ASUS\\AppData\\Roaming\\nltk_data...\n",
      "[nltk_data]   Package genesis is already up-to-date!\n"
     ]
    },
    {
     "name": "stdout",
     "output_type": "stream",
     "text": [
      "Named Entities: first, second, the sixth day, Euphrates, Thou, the seventh day, Ethiopia, the fifth day, the second day, the fourth day, Havilah, Ye, Earth, Eden, one, Spirit, Se, Adam, the\n",
      "day, the seventh day God, Gihon, two, thou, Woman, Night, the night, Unto Adam, Eve, Behold, four, the first day, fourth, the day, Pison, the third day, earth, Assyria, the light Day, the\n",
      "morning, compasseth, third, days, seasons, thou shalt\n",
      "Tuples for Information Extraction:\n",
      "('moveth', 'which', 'brought')\n",
      "('rib', 'which', 'taken')\n",
      "Number of Tuples Extracted: 2\n"
     ]
    }
   ],
   "source": [
    "import spacy\n",
    "import nltk\n",
    "nltk.download('genesis')\n",
    "\n",
    "# Load the Genesis corpus\n",
    "from nltk.corpus import genesis\n",
    "genesis_text = genesis.raw()\n",
    "\n",
    "# Load the spaCy English model\n",
    "nlp = spacy.load(\"en_core_web_sm\")\n",
    "\n",
    "# Increase the maximum input length limit\n",
    "nlp.max_length = 2000000\n",
    "\n",
    "# Define a function to extract relationships between entities using dependency parsing\n",
    "def extract_relations(doc):\n",
    "    relations = []\n",
    "    for token in doc:\n",
    "        if token.dep_ == \"nsubj\":  # Subject of the verb\n",
    "            subject = token.text\n",
    "            for child in token.children:\n",
    "                if child.dep_ == \"relcl\":  # Relative clause modifier\n",
    "                    verb = child.text\n",
    "                    for grandchild in child.children:\n",
    "                        if grandchild.dep_ == \"dobj\":  # Direct object of the verb\n",
    "                            object = grandchild.text\n",
    "                            relations.append((subject, object, verb))\n",
    "    return relations\n",
    "\n",
    "# Process the Genesis text with spaCy\n",
    "doc = nlp(genesis_text[:10000])  # Limit to first 1 million characters\n",
    "sentences = [sent for sent in doc.sents][:100]  # Limit to first 100 sentences\n",
    "\n",
    "# Extract named entities from the individual sentences\n",
    "entities = set()\n",
    "for sent in sentences:\n",
    "    for ent in sent.ents:\n",
    "        entities.add(ent.text)\n",
    "\n",
    "# Print the named entities\n",
    "print(\"Named Entities:\", \", \".join(entities))\n",
    "\n",
    "# Extract relationships between the named entities\n",
    "relations = []\n",
    "for sent in sentences:\n",
    "    relations += extract_relations(sent)\n",
    "\n",
    "# Print the extracted relationships as tuples for information extraction\n",
    "print(\"Tuples for Information Extraction:\")\n",
    "for relation in relations:\n",
    "    print(relation)\n",
    "\n",
    "# Print the number of tuples extracted\n",
    "print(f\"Number of Tuples Extracted: {len(relations)}\")\n"
   ]
  },
  {
   "cell_type": "markdown",
   "id": "809287c0",
   "metadata": {},
   "source": []
  },
  {
   "cell_type": "code",
   "execution_count": null,
   "id": "20c52f34",
   "metadata": {},
   "outputs": [],
   "source": []
  },
  {
   "cell_type": "code",
   "execution_count": 2,
   "id": "d7895092",
   "metadata": {},
   "outputs": [],
   "source": [
    "nlp=spacy.load('en_core_web_sm')"
   ]
  },
  {
   "cell_type": "code",
   "execution_count": 3,
   "id": "eccbc253",
   "metadata": {},
   "outputs": [
    {
     "data": {
      "text/plain": [
       "\"A. P. J. Abdul Kalam was an Indian aerospace scientist and politician who served as the 11th President of India from 2002 to 2007. He was born and raised in Rameswaram, Tamil Nadu and studied physics and aerospace engineering. He spent the next four decades as a scientist and science administrator, mainly at the Defence Research and Development Organisation (DRDO) and Indian Space Research Organisation (ISRO) and was intimately involved in India's civilian space programme and military missile development efforts.\""
      ]
     },
     "execution_count": 3,
     "metadata": {},
     "output_type": "execute_result"
    }
   ],
   "source": [
    "kalam = \"\"\"A. P. J. Abdul Kalam was an Indian aerospace scientist and politician who served as the 11th President of India from 2002 to 2007. He was born and raised in Rameswaram, Tamil Nadu and studied physics and aerospace engineering. He spent the next four decades as a scientist and science administrator, mainly at the Defence Research and Development Organisation (DRDO) and Indian Space Research Organisation (ISRO) and was intimately involved in India's civilian space programme and military missile development efforts.\"\"\"\n",
    "\n",
    "kalam"
   ]
  },
  {
   "cell_type": "code",
   "execution_count": 5,
   "id": "d2c0f9b3",
   "metadata": {},
   "outputs": [],
   "source": [
    "kalam_nlp_model = nlp(kalam)\n",
    "\n"
   ]
  },
  {
   "cell_type": "code",
   "execution_count": 7,
   "id": "a6379217",
   "metadata": {},
   "outputs": [
    {
     "name": "stdout",
     "output_type": "stream",
     "text": [
      "Entity                                             Label\n",
      "--------------------------------------------------\n",
      "A. P. J. Abdul Kalam                               PERSON\n",
      "Indian                                             NORP\n",
      "11th                                               ORDINAL\n",
      "India                                              GPE\n",
      "2002                                               DATE\n",
      "2007                                               DATE\n",
      "Rameswaram                                         GPE\n",
      "Tamil Nadu                                         PERSON\n",
      "the next four decades                              DATE\n",
      "the Defence Research and Development Organisation  ORG\n",
      "Indian Space Research Organisation                 ORG\n",
      "India                                              GPE\n"
     ]
    }
   ],
   "source": [
    "print(f\"{'Entity'.ljust(50)} {'Label'}\" + '\\n' + '-' * 50)\n",
    "for entity in kalam_nlp_model.ents:\n",
    "    print(entity.text.ljust(50), entity.label_)"
   ]
  },
  {
   "cell_type": "code",
   "execution_count": 8,
   "id": "82573f6b",
   "metadata": {},
   "outputs": [],
   "source": [
    "dep_nlp = nlp('India is my country, India is beautiful')\n"
   ]
  },
  {
   "cell_type": "code",
   "execution_count": 9,
   "id": "cc3b3050",
   "metadata": {},
   "outputs": [
    {
     "data": {
      "text/html": [
       "<span class=\"tex2jax_ignore\"><svg xmlns=\"http://www.w3.org/2000/svg\" xmlns:xlink=\"http://www.w3.org/1999/xlink\" xml:lang=\"en\" id=\"e0d8c1d4cc8243f58d39f5245e16541b-0\" class=\"displacy\" width=\"680\" height=\"272.0\" direction=\"ltr\" style=\"max-width: none; height: 272.0px; color: #000000; background: #ffffff; font-family: Arial; direction: ltr\">\n",
       "<text class=\"displacy-token\" fill=\"currentColor\" text-anchor=\"middle\" y=\"182.0\">\n",
       "    <tspan class=\"displacy-word\" fill=\"currentColor\" x=\"50\">India</tspan>\n",
       "    <tspan class=\"displacy-tag\" dy=\"2em\" fill=\"currentColor\" x=\"50\">PROPN</tspan>\n",
       "</text>\n",
       "\n",
       "<text class=\"displacy-token\" fill=\"currentColor\" text-anchor=\"middle\" y=\"182.0\">\n",
       "    <tspan class=\"displacy-word\" fill=\"currentColor\" x=\"140\">is</tspan>\n",
       "    <tspan class=\"displacy-tag\" dy=\"2em\" fill=\"currentColor\" x=\"140\">AUX</tspan>\n",
       "</text>\n",
       "\n",
       "<text class=\"displacy-token\" fill=\"currentColor\" text-anchor=\"middle\" y=\"182.0\">\n",
       "    <tspan class=\"displacy-word\" fill=\"currentColor\" x=\"230\">my</tspan>\n",
       "    <tspan class=\"displacy-tag\" dy=\"2em\" fill=\"currentColor\" x=\"230\">PRON</tspan>\n",
       "</text>\n",
       "\n",
       "<text class=\"displacy-token\" fill=\"currentColor\" text-anchor=\"middle\" y=\"182.0\">\n",
       "    <tspan class=\"displacy-word\" fill=\"currentColor\" x=\"320\">country,</tspan>\n",
       "    <tspan class=\"displacy-tag\" dy=\"2em\" fill=\"currentColor\" x=\"320\">NOUN</tspan>\n",
       "</text>\n",
       "\n",
       "<text class=\"displacy-token\" fill=\"currentColor\" text-anchor=\"middle\" y=\"182.0\">\n",
       "    <tspan class=\"displacy-word\" fill=\"currentColor\" x=\"410\">India</tspan>\n",
       "    <tspan class=\"displacy-tag\" dy=\"2em\" fill=\"currentColor\" x=\"410\">PROPN</tspan>\n",
       "</text>\n",
       "\n",
       "<text class=\"displacy-token\" fill=\"currentColor\" text-anchor=\"middle\" y=\"182.0\">\n",
       "    <tspan class=\"displacy-word\" fill=\"currentColor\" x=\"500\">is</tspan>\n",
       "    <tspan class=\"displacy-tag\" dy=\"2em\" fill=\"currentColor\" x=\"500\">AUX</tspan>\n",
       "</text>\n",
       "\n",
       "<text class=\"displacy-token\" fill=\"currentColor\" text-anchor=\"middle\" y=\"182.0\">\n",
       "    <tspan class=\"displacy-word\" fill=\"currentColor\" x=\"590\">beautiful</tspan>\n",
       "    <tspan class=\"displacy-tag\" dy=\"2em\" fill=\"currentColor\" x=\"590\">ADJ</tspan>\n",
       "</text>\n",
       "\n",
       "<g class=\"displacy-arrow\">\n",
       "    <path class=\"displacy-arc\" id=\"arrow-e0d8c1d4cc8243f58d39f5245e16541b-0-0\" stroke-width=\"2px\" d=\"M70,137.0 C70,92.0 130.0,92.0 130.0,137.0\" fill=\"none\" stroke=\"currentColor\"/>\n",
       "    <text dy=\"1.25em\" style=\"font-size: 0.8em; letter-spacing: 1px\">\n",
       "        <textPath xlink:href=\"#arrow-e0d8c1d4cc8243f58d39f5245e16541b-0-0\" class=\"displacy-label\" startOffset=\"50%\" side=\"left\" fill=\"currentColor\" text-anchor=\"middle\">nsubj</textPath>\n",
       "    </text>\n",
       "    <path class=\"displacy-arrowhead\" d=\"M70,139.0 L62,127.0 78,127.0\" fill=\"currentColor\"/>\n",
       "</g>\n",
       "\n",
       "<g class=\"displacy-arrow\">\n",
       "    <path class=\"displacy-arc\" id=\"arrow-e0d8c1d4cc8243f58d39f5245e16541b-0-1\" stroke-width=\"2px\" d=\"M160,137.0 C160,2.0 500.0,2.0 500.0,137.0\" fill=\"none\" stroke=\"currentColor\"/>\n",
       "    <text dy=\"1.25em\" style=\"font-size: 0.8em; letter-spacing: 1px\">\n",
       "        <textPath xlink:href=\"#arrow-e0d8c1d4cc8243f58d39f5245e16541b-0-1\" class=\"displacy-label\" startOffset=\"50%\" side=\"left\" fill=\"currentColor\" text-anchor=\"middle\">ccomp</textPath>\n",
       "    </text>\n",
       "    <path class=\"displacy-arrowhead\" d=\"M160,139.0 L152,127.0 168,127.0\" fill=\"currentColor\"/>\n",
       "</g>\n",
       "\n",
       "<g class=\"displacy-arrow\">\n",
       "    <path class=\"displacy-arc\" id=\"arrow-e0d8c1d4cc8243f58d39f5245e16541b-0-2\" stroke-width=\"2px\" d=\"M250,137.0 C250,92.0 310.0,92.0 310.0,137.0\" fill=\"none\" stroke=\"currentColor\"/>\n",
       "    <text dy=\"1.25em\" style=\"font-size: 0.8em; letter-spacing: 1px\">\n",
       "        <textPath xlink:href=\"#arrow-e0d8c1d4cc8243f58d39f5245e16541b-0-2\" class=\"displacy-label\" startOffset=\"50%\" side=\"left\" fill=\"currentColor\" text-anchor=\"middle\">poss</textPath>\n",
       "    </text>\n",
       "    <path class=\"displacy-arrowhead\" d=\"M250,139.0 L242,127.0 258,127.0\" fill=\"currentColor\"/>\n",
       "</g>\n",
       "\n",
       "<g class=\"displacy-arrow\">\n",
       "    <path class=\"displacy-arc\" id=\"arrow-e0d8c1d4cc8243f58d39f5245e16541b-0-3\" stroke-width=\"2px\" d=\"M160,137.0 C160,47.0 315.0,47.0 315.0,137.0\" fill=\"none\" stroke=\"currentColor\"/>\n",
       "    <text dy=\"1.25em\" style=\"font-size: 0.8em; letter-spacing: 1px\">\n",
       "        <textPath xlink:href=\"#arrow-e0d8c1d4cc8243f58d39f5245e16541b-0-3\" class=\"displacy-label\" startOffset=\"50%\" side=\"left\" fill=\"currentColor\" text-anchor=\"middle\">attr</textPath>\n",
       "    </text>\n",
       "    <path class=\"displacy-arrowhead\" d=\"M315.0,139.0 L323.0,127.0 307.0,127.0\" fill=\"currentColor\"/>\n",
       "</g>\n",
       "\n",
       "<g class=\"displacy-arrow\">\n",
       "    <path class=\"displacy-arc\" id=\"arrow-e0d8c1d4cc8243f58d39f5245e16541b-0-4\" stroke-width=\"2px\" d=\"M430,137.0 C430,92.0 490.0,92.0 490.0,137.0\" fill=\"none\" stroke=\"currentColor\"/>\n",
       "    <text dy=\"1.25em\" style=\"font-size: 0.8em; letter-spacing: 1px\">\n",
       "        <textPath xlink:href=\"#arrow-e0d8c1d4cc8243f58d39f5245e16541b-0-4\" class=\"displacy-label\" startOffset=\"50%\" side=\"left\" fill=\"currentColor\" text-anchor=\"middle\">nsubj</textPath>\n",
       "    </text>\n",
       "    <path class=\"displacy-arrowhead\" d=\"M430,139.0 L422,127.0 438,127.0\" fill=\"currentColor\"/>\n",
       "</g>\n",
       "\n",
       "<g class=\"displacy-arrow\">\n",
       "    <path class=\"displacy-arc\" id=\"arrow-e0d8c1d4cc8243f58d39f5245e16541b-0-5\" stroke-width=\"2px\" d=\"M520,137.0 C520,92.0 580.0,92.0 580.0,137.0\" fill=\"none\" stroke=\"currentColor\"/>\n",
       "    <text dy=\"1.25em\" style=\"font-size: 0.8em; letter-spacing: 1px\">\n",
       "        <textPath xlink:href=\"#arrow-e0d8c1d4cc8243f58d39f5245e16541b-0-5\" class=\"displacy-label\" startOffset=\"50%\" side=\"left\" fill=\"currentColor\" text-anchor=\"middle\">acomp</textPath>\n",
       "    </text>\n",
       "    <path class=\"displacy-arrowhead\" d=\"M580.0,139.0 L588.0,127.0 572.0,127.0\" fill=\"currentColor\"/>\n",
       "</g>\n",
       "</svg></span>"
      ],
      "text/plain": [
       "<IPython.core.display.HTML object>"
      ]
     },
     "metadata": {},
     "output_type": "display_data"
    }
   ],
   "source": [
    "spacy.displacy.render(dep_nlp, style='dep', jupyter=True, options={'distance': 90})\n"
   ]
  },
  {
   "cell_type": "code",
   "execution_count": 10,
   "id": "f3211ea1",
   "metadata": {},
   "outputs": [
    {
     "data": {
      "text/html": [
       "<span class=\"tex2jax_ignore\"><div class=\"entities\" style=\"line-height: 2.5; direction: ltr\">When \n",
       "<mark class=\"entity\" style=\"background: #aa9cfc; padding: 0.45em 0.6em; margin: 0 0.25em; line-height: 1; border-radius: 0.35em;\">\n",
       "    Sebastian Thrun\n",
       "    <span style=\"font-size: 0.8em; font-weight: bold; line-height: 1; border-radius: 0.35em; vertical-align: middle; margin-left: 0.5rem\">PERSON</span>\n",
       "</mark>\n",
       " started working on self-driving cars at \n",
       "<mark class=\"entity\" style=\"background: #7aecec; padding: 0.45em 0.6em; margin: 0 0.25em; line-height: 1; border-radius: 0.35em;\">\n",
       "    Google\n",
       "    <span style=\"font-size: 0.8em; font-weight: bold; line-height: 1; border-radius: 0.35em; vertical-align: middle; margin-left: 0.5rem\">ORG</span>\n",
       "</mark>\n",
       " in \n",
       "<mark class=\"entity\" style=\"background: #bfe1d9; padding: 0.45em 0.6em; margin: 0 0.25em; line-height: 1; border-radius: 0.35em;\">\n",
       "    2007\n",
       "    <span style=\"font-size: 0.8em; font-weight: bold; line-height: 1; border-radius: 0.35em; vertical-align: middle; margin-left: 0.5rem\">DATE</span>\n",
       "</mark>\n",
       ", few people outside of the company took him seriously.</div></span>"
      ],
      "text/plain": [
       "<IPython.core.display.HTML object>"
      ]
     },
     "metadata": {},
     "output_type": "display_data"
    }
   ],
   "source": [
    "import spacy\n",
    "from spacy import displacy\n",
    "\n",
    "text = \"When Sebastian Thrun started working on self-driving cars at Google in 2007, few people outside of the company took him seriously.\"\n",
    "\n",
    "nlp = spacy.load(\"en_core_web_sm\")\n",
    "doc = nlp(text)\n",
    "displacy.render(doc, style=\"ent\")"
   ]
  },
  {
   "cell_type": "code",
   "execution_count": 11,
   "id": "42bfa922",
   "metadata": {},
   "outputs": [],
   "source": [
    "text = \"\"\"\n",
    "Shivaji Bhosle was born on February 19, 1630 to Shahaji Bhosle and Jijabai in the fort of Shivneri, near the city of Junnar of the Pune district. Shivaji’s father Shahaji was in service of the Bijapuri Sultanate - a tripartite association between Bijapur, Ahmednagar, and Golconda, as a general. He also owned a Jaigirdari near Pune. Shivaji’s mother Jijabai was the daughter of Sindkhed leader Lakhujirao Jadhav and a deeply religious woman. Shivaji was especially close to his mother who instilled in him a strict sense of right and wrong. Since Shahaji spent most of his time outside of Pune, the responsibility of overseeing Shivaji’s education rested on the shoulders of a small council of ministers which included a Peshwa (Shamrao Nilkanth),a Mazumdar (Balkrishna Pant), a Sabnis (Raghunath Ballal), a Dabir (Sonopant) and a chief teacher (Dadoji Konddeo). Kanhoji Jedhe and Baji Pasalkar were appointed to train Shivaji in military and martial arts. Shivaji was married to Saibai Nimbalkar in 1640.\n",
    "\n",
    "Shivaji turned out to be a born leader from a very young age. An active outdoorsman, he explored the Sahayadri Mountains surrounding the Shivneri forts and came to know the area like the back of his hands. By the time he was 15, he had accumulated a band of faithful soldiers from the Maval region who later aided in his early conquests.\n",
    "\"\"\""
   ]
  },
  {
   "cell_type": "code",
   "execution_count": 12,
   "id": "8ef87b07",
   "metadata": {},
   "outputs": [],
   "source": [
    "text_nlp = nlp(text)\n"
   ]
  },
  {
   "cell_type": "code",
   "execution_count": 13,
   "id": "d4714cd1",
   "metadata": {},
   "outputs": [
    {
     "name": "stdout",
     "output_type": "stream",
     "text": [
      "Entity                                             Label\n",
      "--------------------------------------------------\n",
      "Shivaji Bhosle                                     PERSON\n",
      "February 19, 1630                                  DATE\n",
      "Shahaji Bhosle                                     GPE\n",
      "Jijabai                                            GPE\n",
      "Shivneri                                           ORG\n",
      "Junnar                                             GPE\n",
      "Pune                                               ORG\n",
      "Shahaji                                            PERSON\n",
      "Bijapuri Sultanate                                 NORP\n",
      "Bijapur                                            PERSON\n",
      "Ahmednagar                                         ORG\n",
      "Golconda                                           ORG\n",
      "Jaigirdari                                         GPE\n",
      "Pune                                               GPE\n",
      "Jijabai                                            GPE\n",
      "Sindkhed                                           ORG\n",
      "Lakhujirao Jadhav                                  PERSON\n",
      "Shivaji                                            PERSON\n",
      "Shahaji                                            NORP\n",
      "Pune                                               ORG\n",
      "Shivaji                                            PERSON\n",
      "Balkrishna Pant                                    PERSON\n",
      "Raghunath Ballal                                   PERSON\n",
      "Dabir                                              PERSON\n",
      "Dadoji Konddeo                                     PERSON\n",
      "Kanhoji Jedhe                                      PERSON\n",
      "Baji Pasalkar                                      PERSON\n",
      "Shivaji                                            PERSON\n",
      "Shivaji                                            PERSON\n",
      "Saibai Nimbalkar                                   PERSON\n",
      "1640                                               DATE\n",
      "Shivneri                                           NORP\n",
      "15                                                 DATE\n",
      "Maval                                              GPE\n"
     ]
    }
   ],
   "source": [
    "print(f\"{'Entity'.ljust(50)} {'Label'}\" + '\\n' + '-' * 50)\n",
    "for entity in text_nlp.ents:\n",
    "    print(entity.text.ljust(50), entity.label_)"
   ]
  },
  {
   "cell_type": "code",
   "execution_count": 14,
   "id": "99e776b3",
   "metadata": {},
   "outputs": [
    {
     "data": {
      "text/plain": [
       "[(Shivaji Bhosle, 'PERSON', 380),\n",
       " (February 19, 1630, 'DATE', 391),\n",
       " (Shahaji Bhosle, 'GPE', 384),\n",
       " (Jijabai, 'GPE', 384),\n",
       " (Shivneri, 'ORG', 383),\n",
       " (Junnar, 'GPE', 384),\n",
       " (Pune, 'ORG', 383),\n",
       " (Shahaji, 'PERSON', 380),\n",
       " (Bijapuri Sultanate, 'NORP', 381),\n",
       " (Bijapur, 'PERSON', 380),\n",
       " (Ahmednagar, 'ORG', 383),\n",
       " (Golconda, 'ORG', 383),\n",
       " (Jaigirdari, 'GPE', 384),\n",
       " (Pune, 'GPE', 384),\n",
       " (Jijabai, 'GPE', 384),\n",
       " (Sindkhed, 'ORG', 383),\n",
       " (Lakhujirao Jadhav, 'PERSON', 380),\n",
       " (Shivaji, 'PERSON', 380),\n",
       " (Shahaji, 'NORP', 381),\n",
       " (Pune, 'ORG', 383),\n",
       " (Shivaji, 'PERSON', 380),\n",
       " (Balkrishna Pant, 'PERSON', 380),\n",
       " (Raghunath Ballal, 'PERSON', 380),\n",
       " (Dabir, 'PERSON', 380),\n",
       " (Dadoji Konddeo, 'PERSON', 380),\n",
       " (Kanhoji Jedhe, 'PERSON', 380),\n",
       " (Baji Pasalkar, 'PERSON', 380),\n",
       " (Shivaji, 'PERSON', 380),\n",
       " (Shivaji, 'PERSON', 380),\n",
       " (Saibai Nimbalkar, 'PERSON', 380),\n",
       " (1640, 'DATE', 391),\n",
       " (Shivneri, 'NORP', 381),\n",
       " (15, 'DATE', 391),\n",
       " (Maval, 'GPE', 384)]"
      ]
     },
     "execution_count": 14,
     "metadata": {},
     "output_type": "execute_result"
    }
   ],
   "source": [
    "entity_relations = [(i, i.label_, i.label) for i in text_nlp.ents]\n",
    "\n",
    "entity_relations"
   ]
  },
  {
   "cell_type": "code",
   "execution_count": 15,
   "id": "7c2f565e",
   "metadata": {},
   "outputs": [
    {
     "data": {
      "text/html": [
       "<span class=\"tex2jax_ignore\"><div class=\"entities\" style=\"line-height: 2.5; direction: ltr\"></br>\n",
       "<mark class=\"entity\" style=\"background: #aa9cfc; padding: 0.45em 0.6em; margin: 0 0.25em; line-height: 1; border-radius: 0.35em;\">\n",
       "    Shivaji Bhosle\n",
       "    <span style=\"font-size: 0.8em; font-weight: bold; line-height: 1; border-radius: 0.35em; vertical-align: middle; margin-left: 0.5rem\">PERSON</span>\n",
       "</mark>\n",
       " was born on \n",
       "<mark class=\"entity\" style=\"background: #bfe1d9; padding: 0.45em 0.6em; margin: 0 0.25em; line-height: 1; border-radius: 0.35em;\">\n",
       "    February 19, 1630\n",
       "    <span style=\"font-size: 0.8em; font-weight: bold; line-height: 1; border-radius: 0.35em; vertical-align: middle; margin-left: 0.5rem\">DATE</span>\n",
       "</mark>\n",
       " to \n",
       "<mark class=\"entity\" style=\"background: #feca74; padding: 0.45em 0.6em; margin: 0 0.25em; line-height: 1; border-radius: 0.35em;\">\n",
       "    Shahaji Bhosle\n",
       "    <span style=\"font-size: 0.8em; font-weight: bold; line-height: 1; border-radius: 0.35em; vertical-align: middle; margin-left: 0.5rem\">GPE</span>\n",
       "</mark>\n",
       " and \n",
       "<mark class=\"entity\" style=\"background: #feca74; padding: 0.45em 0.6em; margin: 0 0.25em; line-height: 1; border-radius: 0.35em;\">\n",
       "    Jijabai\n",
       "    <span style=\"font-size: 0.8em; font-weight: bold; line-height: 1; border-radius: 0.35em; vertical-align: middle; margin-left: 0.5rem\">GPE</span>\n",
       "</mark>\n",
       " in the fort of \n",
       "<mark class=\"entity\" style=\"background: #7aecec; padding: 0.45em 0.6em; margin: 0 0.25em; line-height: 1; border-radius: 0.35em;\">\n",
       "    Shivneri\n",
       "    <span style=\"font-size: 0.8em; font-weight: bold; line-height: 1; border-radius: 0.35em; vertical-align: middle; margin-left: 0.5rem\">ORG</span>\n",
       "</mark>\n",
       ", near the city of \n",
       "<mark class=\"entity\" style=\"background: #feca74; padding: 0.45em 0.6em; margin: 0 0.25em; line-height: 1; border-radius: 0.35em;\">\n",
       "    Junnar\n",
       "    <span style=\"font-size: 0.8em; font-weight: bold; line-height: 1; border-radius: 0.35em; vertical-align: middle; margin-left: 0.5rem\">GPE</span>\n",
       "</mark>\n",
       " of the \n",
       "<mark class=\"entity\" style=\"background: #7aecec; padding: 0.45em 0.6em; margin: 0 0.25em; line-height: 1; border-radius: 0.35em;\">\n",
       "    Pune\n",
       "    <span style=\"font-size: 0.8em; font-weight: bold; line-height: 1; border-radius: 0.35em; vertical-align: middle; margin-left: 0.5rem\">ORG</span>\n",
       "</mark>\n",
       " district. Shivaji’s father \n",
       "<mark class=\"entity\" style=\"background: #aa9cfc; padding: 0.45em 0.6em; margin: 0 0.25em; line-height: 1; border-radius: 0.35em;\">\n",
       "    Shahaji\n",
       "    <span style=\"font-size: 0.8em; font-weight: bold; line-height: 1; border-radius: 0.35em; vertical-align: middle; margin-left: 0.5rem\">PERSON</span>\n",
       "</mark>\n",
       " was in service of the \n",
       "<mark class=\"entity\" style=\"background: #c887fb; padding: 0.45em 0.6em; margin: 0 0.25em; line-height: 1; border-radius: 0.35em;\">\n",
       "    Bijapuri Sultanate\n",
       "    <span style=\"font-size: 0.8em; font-weight: bold; line-height: 1; border-radius: 0.35em; vertical-align: middle; margin-left: 0.5rem\">NORP</span>\n",
       "</mark>\n",
       " - a tripartite association between \n",
       "<mark class=\"entity\" style=\"background: #aa9cfc; padding: 0.45em 0.6em; margin: 0 0.25em; line-height: 1; border-radius: 0.35em;\">\n",
       "    Bijapur\n",
       "    <span style=\"font-size: 0.8em; font-weight: bold; line-height: 1; border-radius: 0.35em; vertical-align: middle; margin-left: 0.5rem\">PERSON</span>\n",
       "</mark>\n",
       ", \n",
       "<mark class=\"entity\" style=\"background: #7aecec; padding: 0.45em 0.6em; margin: 0 0.25em; line-height: 1; border-radius: 0.35em;\">\n",
       "    Ahmednagar\n",
       "    <span style=\"font-size: 0.8em; font-weight: bold; line-height: 1; border-radius: 0.35em; vertical-align: middle; margin-left: 0.5rem\">ORG</span>\n",
       "</mark>\n",
       ", and \n",
       "<mark class=\"entity\" style=\"background: #7aecec; padding: 0.45em 0.6em; margin: 0 0.25em; line-height: 1; border-radius: 0.35em;\">\n",
       "    Golconda\n",
       "    <span style=\"font-size: 0.8em; font-weight: bold; line-height: 1; border-radius: 0.35em; vertical-align: middle; margin-left: 0.5rem\">ORG</span>\n",
       "</mark>\n",
       ", as a general. He also owned a \n",
       "<mark class=\"entity\" style=\"background: #feca74; padding: 0.45em 0.6em; margin: 0 0.25em; line-height: 1; border-radius: 0.35em;\">\n",
       "    Jaigirdari\n",
       "    <span style=\"font-size: 0.8em; font-weight: bold; line-height: 1; border-radius: 0.35em; vertical-align: middle; margin-left: 0.5rem\">GPE</span>\n",
       "</mark>\n",
       " near \n",
       "<mark class=\"entity\" style=\"background: #feca74; padding: 0.45em 0.6em; margin: 0 0.25em; line-height: 1; border-radius: 0.35em;\">\n",
       "    Pune\n",
       "    <span style=\"font-size: 0.8em; font-weight: bold; line-height: 1; border-radius: 0.35em; vertical-align: middle; margin-left: 0.5rem\">GPE</span>\n",
       "</mark>\n",
       ". Shivaji’s mother \n",
       "<mark class=\"entity\" style=\"background: #feca74; padding: 0.45em 0.6em; margin: 0 0.25em; line-height: 1; border-radius: 0.35em;\">\n",
       "    Jijabai\n",
       "    <span style=\"font-size: 0.8em; font-weight: bold; line-height: 1; border-radius: 0.35em; vertical-align: middle; margin-left: 0.5rem\">GPE</span>\n",
       "</mark>\n",
       " was the daughter of \n",
       "<mark class=\"entity\" style=\"background: #7aecec; padding: 0.45em 0.6em; margin: 0 0.25em; line-height: 1; border-radius: 0.35em;\">\n",
       "    Sindkhed\n",
       "    <span style=\"font-size: 0.8em; font-weight: bold; line-height: 1; border-radius: 0.35em; vertical-align: middle; margin-left: 0.5rem\">ORG</span>\n",
       "</mark>\n",
       " leader \n",
       "<mark class=\"entity\" style=\"background: #aa9cfc; padding: 0.45em 0.6em; margin: 0 0.25em; line-height: 1; border-radius: 0.35em;\">\n",
       "    Lakhujirao Jadhav\n",
       "    <span style=\"font-size: 0.8em; font-weight: bold; line-height: 1; border-radius: 0.35em; vertical-align: middle; margin-left: 0.5rem\">PERSON</span>\n",
       "</mark>\n",
       " and a deeply religious woman. \n",
       "<mark class=\"entity\" style=\"background: #aa9cfc; padding: 0.45em 0.6em; margin: 0 0.25em; line-height: 1; border-radius: 0.35em;\">\n",
       "    Shivaji\n",
       "    <span style=\"font-size: 0.8em; font-weight: bold; line-height: 1; border-radius: 0.35em; vertical-align: middle; margin-left: 0.5rem\">PERSON</span>\n",
       "</mark>\n",
       " was especially close to his mother who instilled in him a strict sense of right and wrong. Since \n",
       "<mark class=\"entity\" style=\"background: #c887fb; padding: 0.45em 0.6em; margin: 0 0.25em; line-height: 1; border-radius: 0.35em;\">\n",
       "    Shahaji\n",
       "    <span style=\"font-size: 0.8em; font-weight: bold; line-height: 1; border-radius: 0.35em; vertical-align: middle; margin-left: 0.5rem\">NORP</span>\n",
       "</mark>\n",
       " spent most of his time outside of \n",
       "<mark class=\"entity\" style=\"background: #7aecec; padding: 0.45em 0.6em; margin: 0 0.25em; line-height: 1; border-radius: 0.35em;\">\n",
       "    Pune\n",
       "    <span style=\"font-size: 0.8em; font-weight: bold; line-height: 1; border-radius: 0.35em; vertical-align: middle; margin-left: 0.5rem\">ORG</span>\n",
       "</mark>\n",
       ", the responsibility of overseeing \n",
       "<mark class=\"entity\" style=\"background: #aa9cfc; padding: 0.45em 0.6em; margin: 0 0.25em; line-height: 1; border-radius: 0.35em;\">\n",
       "    Shivaji\n",
       "    <span style=\"font-size: 0.8em; font-weight: bold; line-height: 1; border-radius: 0.35em; vertical-align: middle; margin-left: 0.5rem\">PERSON</span>\n",
       "</mark>\n",
       "’s education rested on the shoulders of a small council of ministers which included a Peshwa (Shamrao Nilkanth),a Mazumdar (\n",
       "<mark class=\"entity\" style=\"background: #aa9cfc; padding: 0.45em 0.6em; margin: 0 0.25em; line-height: 1; border-radius: 0.35em;\">\n",
       "    Balkrishna Pant\n",
       "    <span style=\"font-size: 0.8em; font-weight: bold; line-height: 1; border-radius: 0.35em; vertical-align: middle; margin-left: 0.5rem\">PERSON</span>\n",
       "</mark>\n",
       "), a Sabnis (\n",
       "<mark class=\"entity\" style=\"background: #aa9cfc; padding: 0.45em 0.6em; margin: 0 0.25em; line-height: 1; border-radius: 0.35em;\">\n",
       "    Raghunath Ballal\n",
       "    <span style=\"font-size: 0.8em; font-weight: bold; line-height: 1; border-radius: 0.35em; vertical-align: middle; margin-left: 0.5rem\">PERSON</span>\n",
       "</mark>\n",
       "), a \n",
       "<mark class=\"entity\" style=\"background: #aa9cfc; padding: 0.45em 0.6em; margin: 0 0.25em; line-height: 1; border-radius: 0.35em;\">\n",
       "    Dabir\n",
       "    <span style=\"font-size: 0.8em; font-weight: bold; line-height: 1; border-radius: 0.35em; vertical-align: middle; margin-left: 0.5rem\">PERSON</span>\n",
       "</mark>\n",
       " (Sonopant) and a chief teacher (\n",
       "<mark class=\"entity\" style=\"background: #aa9cfc; padding: 0.45em 0.6em; margin: 0 0.25em; line-height: 1; border-radius: 0.35em;\">\n",
       "    Dadoji Konddeo\n",
       "    <span style=\"font-size: 0.8em; font-weight: bold; line-height: 1; border-radius: 0.35em; vertical-align: middle; margin-left: 0.5rem\">PERSON</span>\n",
       "</mark>\n",
       "). \n",
       "<mark class=\"entity\" style=\"background: #aa9cfc; padding: 0.45em 0.6em; margin: 0 0.25em; line-height: 1; border-radius: 0.35em;\">\n",
       "    Kanhoji Jedhe\n",
       "    <span style=\"font-size: 0.8em; font-weight: bold; line-height: 1; border-radius: 0.35em; vertical-align: middle; margin-left: 0.5rem\">PERSON</span>\n",
       "</mark>\n",
       " and \n",
       "<mark class=\"entity\" style=\"background: #aa9cfc; padding: 0.45em 0.6em; margin: 0 0.25em; line-height: 1; border-radius: 0.35em;\">\n",
       "    Baji Pasalkar\n",
       "    <span style=\"font-size: 0.8em; font-weight: bold; line-height: 1; border-radius: 0.35em; vertical-align: middle; margin-left: 0.5rem\">PERSON</span>\n",
       "</mark>\n",
       " were appointed to train \n",
       "<mark class=\"entity\" style=\"background: #aa9cfc; padding: 0.45em 0.6em; margin: 0 0.25em; line-height: 1; border-radius: 0.35em;\">\n",
       "    Shivaji\n",
       "    <span style=\"font-size: 0.8em; font-weight: bold; line-height: 1; border-radius: 0.35em; vertical-align: middle; margin-left: 0.5rem\">PERSON</span>\n",
       "</mark>\n",
       " in military and martial arts. \n",
       "<mark class=\"entity\" style=\"background: #aa9cfc; padding: 0.45em 0.6em; margin: 0 0.25em; line-height: 1; border-radius: 0.35em;\">\n",
       "    Shivaji\n",
       "    <span style=\"font-size: 0.8em; font-weight: bold; line-height: 1; border-radius: 0.35em; vertical-align: middle; margin-left: 0.5rem\">PERSON</span>\n",
       "</mark>\n",
       " was married to \n",
       "<mark class=\"entity\" style=\"background: #aa9cfc; padding: 0.45em 0.6em; margin: 0 0.25em; line-height: 1; border-radius: 0.35em;\">\n",
       "    Saibai Nimbalkar\n",
       "    <span style=\"font-size: 0.8em; font-weight: bold; line-height: 1; border-radius: 0.35em; vertical-align: middle; margin-left: 0.5rem\">PERSON</span>\n",
       "</mark>\n",
       " in \n",
       "<mark class=\"entity\" style=\"background: #bfe1d9; padding: 0.45em 0.6em; margin: 0 0.25em; line-height: 1; border-radius: 0.35em;\">\n",
       "    1640\n",
       "    <span style=\"font-size: 0.8em; font-weight: bold; line-height: 1; border-radius: 0.35em; vertical-align: middle; margin-left: 0.5rem\">DATE</span>\n",
       "</mark>\n",
       ".</br></br>Shivaji turned out to be a born leader from a very young age. An active outdoorsman, he explored the Sahayadri Mountains surrounding the \n",
       "<mark class=\"entity\" style=\"background: #c887fb; padding: 0.45em 0.6em; margin: 0 0.25em; line-height: 1; border-radius: 0.35em;\">\n",
       "    Shivneri\n",
       "    <span style=\"font-size: 0.8em; font-weight: bold; line-height: 1; border-radius: 0.35em; vertical-align: middle; margin-left: 0.5rem\">NORP</span>\n",
       "</mark>\n",
       " forts and came to know the area like the back of his hands. By the time he was \n",
       "<mark class=\"entity\" style=\"background: #bfe1d9; padding: 0.45em 0.6em; margin: 0 0.25em; line-height: 1; border-radius: 0.35em;\">\n",
       "    15\n",
       "    <span style=\"font-size: 0.8em; font-weight: bold; line-height: 1; border-radius: 0.35em; vertical-align: middle; margin-left: 0.5rem\">DATE</span>\n",
       "</mark>\n",
       ", he had accumulated a band of faithful soldiers from the \n",
       "<mark class=\"entity\" style=\"background: #feca74; padding: 0.45em 0.6em; margin: 0 0.25em; line-height: 1; border-radius: 0.35em;\">\n",
       "    Maval\n",
       "    <span style=\"font-size: 0.8em; font-weight: bold; line-height: 1; border-radius: 0.35em; vertical-align: middle; margin-left: 0.5rem\">GPE</span>\n",
       "</mark>\n",
       " region who later aided in his early conquests.</br></div></span>"
      ],
      "text/plain": [
       "<IPython.core.display.HTML object>"
      ]
     },
     "metadata": {},
     "output_type": "display_data"
    }
   ],
   "source": [
    "from spacy import displacy\n",
    "\n",
    "options = {\"compact\": True, \"bg\": \"#09a3d5\", \"color\": \"white\", \"font\": \"Source Sans Pro\"}\n",
    "\n",
    "displacy.render(text_nlp, style=\"ent\", jupyter=True, options=options)"
   ]
  },
  {
   "cell_type": "code",
   "execution_count": 16,
   "id": "54cda5db",
   "metadata": {},
   "outputs": [
    {
     "name": "stdout",
     "output_type": "stream",
     "text": [
      "Extracted Tuples:\n",
      "T1(Jaigirdari, GPE, GPE)\n"
     ]
    }
   ],
   "source": [
    "entity_types = [\"PERSON\", \"ORG\", \"GPE\", \"PRODUCT\", \"DATE\"]\n",
    "\n",
    "entities = [(ent.text, ent.label_) for ent in text_nlp.ents if ent.label_ in entity_types]\n",
    "\n",
    "# Extract the relationships between the entities using dependency parsing and POS tagging\n",
    "relations = []\n",
    "for token in text_nlp:\n",
    "    if token.dep_ == 'ROOT' and token.pos_ == 'VERB':\n",
    "        for child in token.children:\n",
    "            if child.ent_type_ in entity_types:\n",
    "                relations.append((child.text, token.text, child.ent_type_))\n",
    "\n",
    "# Create tuples for information extraction\n",
    "tuples = []\n",
    "for relation in relations:\n",
    "    for entity in entities:\n",
    "        if entity[0] == relation[0]:\n",
    "            tuples.append((entity[0], entity[1], relation[2]))\n",
    "\n",
    "# Display the extracted tuples\n",
    "print(\"Extracted Tuples:\")\n",
    "for t in tuples:\n",
    "    print(\"T1({}, {}, {})\".format(t[0], t[1], t[2]))"
   ]
  },
  {
   "cell_type": "code",
   "execution_count": null,
   "id": "535ec5f8",
   "metadata": {},
   "outputs": [],
   "source": []
  }
 ],
 "metadata": {
  "kernelspec": {
   "display_name": "Python 3 (ipykernel)",
   "language": "python",
   "name": "python3"
  },
  "language_info": {
   "codemirror_mode": {
    "name": "ipython",
    "version": 3
   },
   "file_extension": ".py",
   "mimetype": "text/x-python",
   "name": "python",
   "nbconvert_exporter": "python",
   "pygments_lexer": "ipython3",
   "version": "3.10.5"
  }
 },
 "nbformat": 4,
 "nbformat_minor": 5
}
