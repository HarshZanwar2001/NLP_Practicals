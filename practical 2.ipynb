{
 "cells": [
  {
   "cell_type": "code",
   "execution_count": 1,
   "id": "56b43612",
   "metadata": {},
   "outputs": [],
   "source": [
    "import nltk\n",
    "import os\n",
    "import nltk.corpus"
   ]
  },
  {
   "cell_type": "code",
   "execution_count": 2,
   "id": "89f0eefd",
   "metadata": {},
   "outputs": [
    {
     "name": "stdout",
     "output_type": "stream",
     "text": [
      "['abc', 'abc.zip', 'alpino', 'alpino.zip', 'bcp47.zip', 'biocreative_ppi', 'biocreative_ppi.zip', 'brown', 'brown.zip', 'brown_tei', 'brown_tei.zip', 'cess_cat', 'cess_cat.zip', 'cess_esp', 'cess_esp.zip', 'chat80', 'chat80.zip', 'city_database', 'city_database.zip', 'cmudict', 'cmudict.zip', 'comparative_sentences', 'comparative_sentences.zip', 'comtrans.zip', 'conll2000', 'conll2000.zip', 'conll2002', 'conll2002.zip', 'conll2007.zip', 'crubadan', 'crubadan.zip', 'dependency_treebank', 'dependency_treebank.zip', 'dolch', 'dolch.zip', 'europarl_raw', 'europarl_raw.zip', 'extended_omw.zip', 'floresta', 'floresta.zip', 'framenet_v15', 'framenet_v15.zip', 'framenet_v17', 'framenet_v17.zip', 'gazetteers', 'gazetteers.zip', 'genesis', 'genesis.zip', 'gutenberg', 'gutenberg.zip', 'ieer', 'ieer.zip', 'inaugural', 'inaugural.zip', 'indian', 'indian.zip', 'jeita.zip', 'kimmo', 'kimmo.zip', 'knbc.zip', 'lin_thesaurus', 'lin_thesaurus.zip', 'machado.zip', 'mac_morpho', 'mac_morpho.zip', 'masc_tagged.zip', 'movie_reviews', 'movie_reviews.zip', 'mte_teip5', 'mte_teip5.zip', 'names', 'names.zip', 'nombank.1.0.zip', 'nonbreaking_prefixes', 'nonbreaking_prefixes.zip', 'nps_chat', 'nps_chat.zip', 'omw-1.4.zip', 'omw.zip', 'opinion_lexicon', 'opinion_lexicon.zip', 'panlex_swadesh.zip', 'paradigms', 'paradigms.zip', 'pe08', 'pe08.zip', 'pil', 'pil.zip', 'pl196x', 'pl196x.zip', 'ppattach', 'ppattach.zip', 'problem_reports', 'problem_reports.zip', 'product_reviews_1', 'product_reviews_1.zip', 'product_reviews_2', 'product_reviews_2.zip', 'propbank.zip', 'pros_cons', 'pros_cons.zip', 'ptb', 'ptb.zip', 'qc', 'qc.zip', 'reuters.zip', 'rte', 'rte.zip', 'semcor.zip', 'senseval', 'senseval.zip', 'sentence_polarity', 'sentence_polarity.zip', 'sentiwordnet', 'sentiwordnet.zip', 'shakespeare', 'shakespeare.zip', 'sinica_treebank', 'sinica_treebank.zip', 'smultron', 'smultron.zip', 'state_union', 'state_union.zip', 'stopwords', 'stopwords.zip', 'subjectivity', 'subjectivity.zip', 'swadesh', 'swadesh.zip', 'switchboard', 'switchboard.zip', 'timit', 'timit.zip', 'toolbox', 'toolbox.zip', 'treebank', 'treebank.zip', 'twitter_samples', 'twitter_samples.zip', 'udhr', 'udhr.zip', 'udhr2', 'udhr2.zip', 'unicode_samples', 'unicode_samples.zip', 'universal_treebanks_v20.zip', 'verbnet', 'verbnet.zip', 'verbnet3', 'verbnet3.zip', 'webtext', 'webtext.zip', 'wordnet.zip', 'wordnet2021.zip', 'wordnet2022', 'wordnet2022.zip', 'wordnet31.zip', 'wordnet_ic', 'wordnet_ic.zip', 'words', 'words.zip', 'ycoe', 'ycoe.zip']\n"
     ]
    }
   ],
   "source": [
    "print(os.listdir(nltk.data.find('corpora')))"
   ]
  },
  {
   "cell_type": "code",
   "execution_count": 4,
   "id": "884c71f9",
   "metadata": {},
   "outputs": [
    {
     "data": {
      "text/plain": [
       "['The', 'Fulton', 'County', 'Grand', 'Jury', 'said', ...]"
      ]
     },
     "execution_count": 4,
     "metadata": {},
     "output_type": "execute_result"
    }
   ],
   "source": [
    "from nltk.corpus import brown\n",
    "brown.words()"
   ]
  },
  {
   "cell_type": "code",
   "execution_count": 5,
   "id": "cf7d9d25",
   "metadata": {},
   "outputs": [
    {
     "data": {
      "text/plain": [
       "['austen-emma.txt',\n",
       " 'austen-persuasion.txt',\n",
       " 'austen-sense.txt',\n",
       " 'bible-kjv.txt',\n",
       " 'blake-poems.txt',\n",
       " 'bryant-stories.txt',\n",
       " 'burgess-busterbrown.txt',\n",
       " 'carroll-alice.txt',\n",
       " 'chesterton-ball.txt',\n",
       " 'chesterton-brown.txt',\n",
       " 'chesterton-thursday.txt',\n",
       " 'edgeworth-parents.txt',\n",
       " 'melville-moby_dick.txt',\n",
       " 'milton-paradise.txt',\n",
       " 'shakespeare-caesar.txt',\n",
       " 'shakespeare-hamlet.txt',\n",
       " 'shakespeare-macbeth.txt',\n",
       " 'whitman-leaves.txt']"
      ]
     },
     "execution_count": 5,
     "metadata": {},
     "output_type": "execute_result"
    }
   ],
   "source": [
    "nltk.corpus.gutenberg.fileids()"
   ]
  },
  {
   "cell_type": "code",
   "execution_count": 21,
   "id": "1aae56c6",
   "metadata": {},
   "outputs": [
    {
     "data": {
      "text/plain": [
       "['[', 'The', 'King', 'James', 'Bible', ']', 'The', ...]"
      ]
     },
     "execution_count": 21,
     "metadata": {},
     "output_type": "execute_result"
    }
   ],
   "source": [
    "bible=nltk.corpus.gutenberg.words('bible-kjv.txt')\n",
    "bible"
   ]
  },
  {
   "cell_type": "code",
   "execution_count": 8,
   "id": "83e9326e",
   "metadata": {},
   "outputs": [
    {
     "name": "stderr",
     "output_type": "stream",
     "text": [
      "[nltk_data] Downloading package stopwords to\n",
      "[nltk_data]     C:\\Users\\ASUS\\AppData\\Roaming\\nltk_data...\n",
      "[nltk_data]   Package stopwords is already up-to-date!\n"
     ]
    },
    {
     "data": {
      "text/plain": [
       "True"
      ]
     },
     "execution_count": 8,
     "metadata": {},
     "output_type": "execute_result"
    }
   ],
   "source": [
    "nltk.download('stopwords')"
   ]
  },
  {
   "cell_type": "code",
   "execution_count": 9,
   "id": "0feeebe5",
   "metadata": {},
   "outputs": [
    {
     "name": "stderr",
     "output_type": "stream",
     "text": [
      "[nltk_data] Downloading package punkt to\n",
      "[nltk_data]     C:\\Users\\ASUS\\AppData\\Roaming\\nltk_data...\n",
      "[nltk_data]   Package punkt is already up-to-date!\n"
     ]
    },
    {
     "data": {
      "text/plain": [
       "True"
      ]
     },
     "execution_count": 9,
     "metadata": {},
     "output_type": "execute_result"
    }
   ],
   "source": [
    "nltk.download('punkt')"
   ]
  },
  {
   "cell_type": "code",
   "execution_count": 10,
   "id": "cd76601b",
   "metadata": {},
   "outputs": [],
   "source": [
    "from nltk.corpus import stopwords\n",
    "from nltk.tokenize import word_tokenize"
   ]
  },
  {
   "cell_type": "code",
   "execution_count": 13,
   "id": "76c5e138",
   "metadata": {},
   "outputs": [],
   "source": [
    "stopwords=set(stopwords.words('english'))"
   ]
  },
  {
   "cell_type": "code",
   "execution_count": 14,
   "id": "7db31a5e",
   "metadata": {},
   "outputs": [
    {
     "data": {
      "text/plain": [
       "{'a',\n",
       " 'about',\n",
       " 'above',\n",
       " 'after',\n",
       " 'again',\n",
       " 'against',\n",
       " 'ain',\n",
       " 'all',\n",
       " 'am',\n",
       " 'an',\n",
       " 'and',\n",
       " 'any',\n",
       " 'are',\n",
       " 'aren',\n",
       " \"aren't\",\n",
       " 'as',\n",
       " 'at',\n",
       " 'be',\n",
       " 'because',\n",
       " 'been',\n",
       " 'before',\n",
       " 'being',\n",
       " 'below',\n",
       " 'between',\n",
       " 'both',\n",
       " 'but',\n",
       " 'by',\n",
       " 'can',\n",
       " 'couldn',\n",
       " \"couldn't\",\n",
       " 'd',\n",
       " 'did',\n",
       " 'didn',\n",
       " \"didn't\",\n",
       " 'do',\n",
       " 'does',\n",
       " 'doesn',\n",
       " \"doesn't\",\n",
       " 'doing',\n",
       " 'don',\n",
       " \"don't\",\n",
       " 'down',\n",
       " 'during',\n",
       " 'each',\n",
       " 'few',\n",
       " 'for',\n",
       " 'from',\n",
       " 'further',\n",
       " 'had',\n",
       " 'hadn',\n",
       " \"hadn't\",\n",
       " 'has',\n",
       " 'hasn',\n",
       " \"hasn't\",\n",
       " 'have',\n",
       " 'haven',\n",
       " \"haven't\",\n",
       " 'having',\n",
       " 'he',\n",
       " 'her',\n",
       " 'here',\n",
       " 'hers',\n",
       " 'herself',\n",
       " 'him',\n",
       " 'himself',\n",
       " 'his',\n",
       " 'how',\n",
       " 'i',\n",
       " 'if',\n",
       " 'in',\n",
       " 'into',\n",
       " 'is',\n",
       " 'isn',\n",
       " \"isn't\",\n",
       " 'it',\n",
       " \"it's\",\n",
       " 'its',\n",
       " 'itself',\n",
       " 'just',\n",
       " 'll',\n",
       " 'm',\n",
       " 'ma',\n",
       " 'me',\n",
       " 'mightn',\n",
       " \"mightn't\",\n",
       " 'more',\n",
       " 'most',\n",
       " 'mustn',\n",
       " \"mustn't\",\n",
       " 'my',\n",
       " 'myself',\n",
       " 'needn',\n",
       " \"needn't\",\n",
       " 'no',\n",
       " 'nor',\n",
       " 'not',\n",
       " 'now',\n",
       " 'o',\n",
       " 'of',\n",
       " 'off',\n",
       " 'on',\n",
       " 'once',\n",
       " 'only',\n",
       " 'or',\n",
       " 'other',\n",
       " 'our',\n",
       " 'ours',\n",
       " 'ourselves',\n",
       " 'out',\n",
       " 'over',\n",
       " 'own',\n",
       " 're',\n",
       " 's',\n",
       " 'same',\n",
       " 'shan',\n",
       " \"shan't\",\n",
       " 'she',\n",
       " \"she's\",\n",
       " 'should',\n",
       " \"should've\",\n",
       " 'shouldn',\n",
       " \"shouldn't\",\n",
       " 'so',\n",
       " 'some',\n",
       " 'such',\n",
       " 't',\n",
       " 'than',\n",
       " 'that',\n",
       " \"that'll\",\n",
       " 'the',\n",
       " 'their',\n",
       " 'theirs',\n",
       " 'them',\n",
       " 'themselves',\n",
       " 'then',\n",
       " 'there',\n",
       " 'these',\n",
       " 'they',\n",
       " 'this',\n",
       " 'those',\n",
       " 'through',\n",
       " 'to',\n",
       " 'too',\n",
       " 'under',\n",
       " 'until',\n",
       " 'up',\n",
       " 've',\n",
       " 'very',\n",
       " 'was',\n",
       " 'wasn',\n",
       " \"wasn't\",\n",
       " 'we',\n",
       " 'were',\n",
       " 'weren',\n",
       " \"weren't\",\n",
       " 'what',\n",
       " 'when',\n",
       " 'where',\n",
       " 'which',\n",
       " 'while',\n",
       " 'who',\n",
       " 'whom',\n",
       " 'why',\n",
       " 'will',\n",
       " 'with',\n",
       " 'won',\n",
       " \"won't\",\n",
       " 'wouldn',\n",
       " \"wouldn't\",\n",
       " 'y',\n",
       " 'you',\n",
       " \"you'd\",\n",
       " \"you'll\",\n",
       " \"you're\",\n",
       " \"you've\",\n",
       " 'your',\n",
       " 'yours',\n",
       " 'yourself',\n",
       " 'yourselves'}"
      ]
     },
     "execution_count": 14,
     "metadata": {},
     "output_type": "execute_result"
    }
   ],
   "source": [
    "stopwords"
   ]
  },
  {
   "cell_type": "code",
   "execution_count": 15,
   "id": "a9d2141a",
   "metadata": {},
   "outputs": [],
   "source": [
    "ex='Hello, How are you ? I am fine.'"
   ]
  },
  {
   "cell_type": "code",
   "execution_count": 27,
   "id": "42d64dc3",
   "metadata": {},
   "outputs": [],
   "source": [
    "tokenize=word_tokenize(ex)"
   ]
  },
  {
   "cell_type": "code",
   "execution_count": 28,
   "id": "98a24568",
   "metadata": {},
   "outputs": [
    {
     "data": {
      "text/plain": [
       "['Hello', ',', 'How', 'are', 'you', '?', 'I', 'am', 'fine', '.']"
      ]
     },
     "execution_count": 28,
     "metadata": {},
     "output_type": "execute_result"
    }
   ],
   "source": [
    "tokenize"
   ]
  },
  {
   "cell_type": "code",
   "execution_count": 19,
   "id": "e105b926",
   "metadata": {},
   "outputs": [
    {
     "data": {
      "text/plain": [
       "['Hello', ',', 'How', '?', 'I', 'fine', '.']"
      ]
     },
     "execution_count": 19,
     "metadata": {},
     "output_type": "execute_result"
    }
   ],
   "source": [
    "wordfilter=[w for w in tokenize if not w in stopwords]\n",
    "wordfilter"
   ]
  },
  {
   "cell_type": "code",
   "execution_count": 23,
   "id": "2dde71c4",
   "metadata": {},
   "outputs": [
    {
     "data": {
      "text/plain": [
       "['Hello', ',', 'How', '?', 'I', 'fine', '.']"
      ]
     },
     "execution_count": 23,
     "metadata": {},
     "output_type": "execute_result"
    }
   ],
   "source": [
    "filtered_sen=[]\n",
    "for w in tokenize:\n",
    "    if w not in stopwords:\n",
    "        filtered_sen.append(w)\n",
    "        \n",
    "filtered_sen"
   ]
  },
  {
   "cell_type": "code",
   "execution_count": 24,
   "id": "cd519c60",
   "metadata": {},
   "outputs": [
    {
     "data": {
      "text/plain": [
       "'Hello How are you I am fine'"
      ]
     },
     "execution_count": 24,
     "metadata": {},
     "output_type": "execute_result"
    }
   ],
   "source": [
    "text=\"Hello, How are you ? I am fine.\"\n",
    "tokenizer=nltk.RegexpTokenizer(r\"\\w+\")\n",
    "tokens=tokenizer.tokenize(text)\n",
    "\" \".join(tokens)"
   ]
  },
  {
   "cell_type": "code",
   "execution_count": 26,
   "id": "3c0144db",
   "metadata": {},
   "outputs": [
    {
     "data": {
      "text/plain": [
       "['haven',\n",
       " 'shouldn',\n",
       " 'himself',\n",
       " 'same',\n",
       " 'did',\n",
       " 'themselves',\n",
       " 'in',\n",
       " \"needn't\",\n",
       " 'just',\n",
       " 'don',\n",
       " 'have',\n",
       " 'until',\n",
       " 'if',\n",
       " 'now',\n",
       " 'out',\n",
       " 'how',\n",
       " 'again',\n",
       " 'are',\n",
       " 'a',\n",
       " 've',\n",
       " \"you'd\",\n",
       " 'am',\n",
       " 'ain',\n",
       " \"weren't\",\n",
       " \"aren't\",\n",
       " 'very',\n",
       " 'most',\n",
       " 'of',\n",
       " 'ourselves',\n",
       " 'during',\n",
       " 'aren',\n",
       " 'wouldn',\n",
       " 'those',\n",
       " 'other',\n",
       " \"mightn't\",\n",
       " 'through',\n",
       " 'itself',\n",
       " 'few',\n",
       " 'under',\n",
       " 'some',\n",
       " \"it's\",\n",
       " 'o',\n",
       " 'nor',\n",
       " 'they',\n",
       " 'up',\n",
       " 'yours',\n",
       " 'to',\n",
       " 'them',\n",
       " 'between',\n",
       " 'below',\n",
       " \"haven't\",\n",
       " \"wouldn't\",\n",
       " 'shan',\n",
       " 'weren',\n",
       " \"didn't\",\n",
       " \"hasn't\",\n",
       " 'myself',\n",
       " \"you'll\",\n",
       " 'being',\n",
       " 'further',\n",
       " 'we',\n",
       " 'hers',\n",
       " \"shan't\",\n",
       " 're',\n",
       " 'down',\n",
       " 'isn',\n",
       " \"should've\",\n",
       " 'then',\n",
       " \"mustn't\",\n",
       " 'when',\n",
       " 'yourselves',\n",
       " 'hasn',\n",
       " 'doesn',\n",
       " 'who',\n",
       " 'for',\n",
       " 'having',\n",
       " 'because',\n",
       " 'should',\n",
       " 'herself',\n",
       " 'once',\n",
       " \"shouldn't\",\n",
       " 'off',\n",
       " 'had',\n",
       " 'does',\n",
       " 'doing',\n",
       " 'about',\n",
       " 'not',\n",
       " 'own',\n",
       " \"hadn't\",\n",
       " 'wasn',\n",
       " \"doesn't\",\n",
       " 'here',\n",
       " \"wasn't\",\n",
       " 'won',\n",
       " 'd',\n",
       " 'needn',\n",
       " 'theirs',\n",
       " 'yourself',\n",
       " 'too',\n",
       " 'didn',\n",
       " 'both',\n",
       " 'his',\n",
       " 'more',\n",
       " 'why',\n",
       " 'll',\n",
       " 'were',\n",
       " 'mustn',\n",
       " 'before',\n",
       " 'her',\n",
       " 'on',\n",
       " 'as',\n",
       " 'couldn',\n",
       " 'that',\n",
       " \"you're\",\n",
       " 'it',\n",
       " 'him',\n",
       " 'mightn',\n",
       " 'me',\n",
       " 'can',\n",
       " 'whom',\n",
       " 'been',\n",
       " 'be',\n",
       " 'over',\n",
       " 'these',\n",
       " 'was',\n",
       " 'ours',\n",
       " 'from',\n",
       " 'only',\n",
       " 'so',\n",
       " 'such',\n",
       " 'my',\n",
       " 'its',\n",
       " 'you',\n",
       " 'ma',\n",
       " \"you've\",\n",
       " 'or',\n",
       " 'i',\n",
       " 'an',\n",
       " \"isn't\",\n",
       " 'above',\n",
       " 'all',\n",
       " 'which',\n",
       " 'against',\n",
       " 't',\n",
       " 'hadn',\n",
       " 'he',\n",
       " 'no',\n",
       " 'their',\n",
       " 'and',\n",
       " \"won't\",\n",
       " 'by',\n",
       " 'what',\n",
       " 'but',\n",
       " 'm',\n",
       " 's',\n",
       " 'into',\n",
       " \"couldn't\",\n",
       " 'is',\n",
       " 'this',\n",
       " 'with',\n",
       " 'y',\n",
       " 'the',\n",
       " 'she',\n",
       " 'while',\n",
       " 'our',\n",
       " 'there',\n",
       " 'than',\n",
       " 'at',\n",
       " \"that'll\",\n",
       " 'your',\n",
       " 'will',\n",
       " 'after',\n",
       " 'where',\n",
       " 'do',\n",
       " 'any',\n",
       " \"don't\",\n",
       " \"she's\",\n",
       " 'has',\n",
       " 'each',\n",
       " 'I',\n",
       " 'Apple',\n",
       " 'google']"
      ]
     },
     "execution_count": 26,
     "metadata": {},
     "output_type": "execute_result"
    }
   ],
   "source": [
    "stopwords=list(stopwords)\n",
    "my_extra=['I','Apple','google']\n",
    "stopwords.extend(my_extra)\n",
    "stopwords\n"
   ]
  },
  {
   "cell_type": "code",
   "execution_count": 29,
   "id": "198eabf7",
   "metadata": {},
   "outputs": [
    {
     "data": {
      "text/plain": [
       "'Hello , I am fine.'"
      ]
     },
     "execution_count": 29,
     "metadata": {},
     "output_type": "execute_result"
    }
   ],
   "source": [
    "ex='Hello , I am fine.'\n",
    "tokenize=word_tokenize(ex)\n",
    "ex"
   ]
  },
  {
   "cell_type": "code",
   "execution_count": 30,
   "id": "f9e5a51c",
   "metadata": {},
   "outputs": [
    {
     "data": {
      "text/plain": [
       "['Hello', ',', 'fine', '.']"
      ]
     },
     "execution_count": 30,
     "metadata": {},
     "output_type": "execute_result"
    }
   ],
   "source": [
    "wordfilter=[w for w in tokenize if not w in stopwords]\n",
    "wordfilter"
   ]
  },
  {
   "cell_type": "code",
   "execution_count": 31,
   "id": "9c374f7b",
   "metadata": {},
   "outputs": [],
   "source": [
    "stopwords=[el for el in stopwords if el not in my_extra]"
   ]
  },
  {
   "cell_type": "code",
   "execution_count": 32,
   "id": "eadf731c",
   "metadata": {},
   "outputs": [
    {
     "data": {
      "text/plain": [
       "['haven',\n",
       " 'shouldn',\n",
       " 'himself',\n",
       " 'same',\n",
       " 'did',\n",
       " 'themselves',\n",
       " 'in',\n",
       " \"needn't\",\n",
       " 'just',\n",
       " 'don',\n",
       " 'have',\n",
       " 'until',\n",
       " 'if',\n",
       " 'now',\n",
       " 'out',\n",
       " 'how',\n",
       " 'again',\n",
       " 'are',\n",
       " 'a',\n",
       " 've',\n",
       " \"you'd\",\n",
       " 'am',\n",
       " 'ain',\n",
       " \"weren't\",\n",
       " \"aren't\",\n",
       " 'very',\n",
       " 'most',\n",
       " 'of',\n",
       " 'ourselves',\n",
       " 'during',\n",
       " 'aren',\n",
       " 'wouldn',\n",
       " 'those',\n",
       " 'other',\n",
       " \"mightn't\",\n",
       " 'through',\n",
       " 'itself',\n",
       " 'few',\n",
       " 'under',\n",
       " 'some',\n",
       " \"it's\",\n",
       " 'o',\n",
       " 'nor',\n",
       " 'they',\n",
       " 'up',\n",
       " 'yours',\n",
       " 'to',\n",
       " 'them',\n",
       " 'between',\n",
       " 'below',\n",
       " \"haven't\",\n",
       " \"wouldn't\",\n",
       " 'shan',\n",
       " 'weren',\n",
       " \"didn't\",\n",
       " \"hasn't\",\n",
       " 'myself',\n",
       " \"you'll\",\n",
       " 'being',\n",
       " 'further',\n",
       " 'we',\n",
       " 'hers',\n",
       " \"shan't\",\n",
       " 're',\n",
       " 'down',\n",
       " 'isn',\n",
       " \"should've\",\n",
       " 'then',\n",
       " \"mustn't\",\n",
       " 'when',\n",
       " 'yourselves',\n",
       " 'hasn',\n",
       " 'doesn',\n",
       " 'who',\n",
       " 'for',\n",
       " 'having',\n",
       " 'because',\n",
       " 'should',\n",
       " 'herself',\n",
       " 'once',\n",
       " \"shouldn't\",\n",
       " 'off',\n",
       " 'had',\n",
       " 'does',\n",
       " 'doing',\n",
       " 'about',\n",
       " 'not',\n",
       " 'own',\n",
       " \"hadn't\",\n",
       " 'wasn',\n",
       " \"doesn't\",\n",
       " 'here',\n",
       " \"wasn't\",\n",
       " 'won',\n",
       " 'd',\n",
       " 'needn',\n",
       " 'theirs',\n",
       " 'yourself',\n",
       " 'too',\n",
       " 'didn',\n",
       " 'both',\n",
       " 'his',\n",
       " 'more',\n",
       " 'why',\n",
       " 'll',\n",
       " 'were',\n",
       " 'mustn',\n",
       " 'before',\n",
       " 'her',\n",
       " 'on',\n",
       " 'as',\n",
       " 'couldn',\n",
       " 'that',\n",
       " \"you're\",\n",
       " 'it',\n",
       " 'him',\n",
       " 'mightn',\n",
       " 'me',\n",
       " 'can',\n",
       " 'whom',\n",
       " 'been',\n",
       " 'be',\n",
       " 'over',\n",
       " 'these',\n",
       " 'was',\n",
       " 'ours',\n",
       " 'from',\n",
       " 'only',\n",
       " 'so',\n",
       " 'such',\n",
       " 'my',\n",
       " 'its',\n",
       " 'you',\n",
       " 'ma',\n",
       " \"you've\",\n",
       " 'or',\n",
       " 'i',\n",
       " 'an',\n",
       " \"isn't\",\n",
       " 'above',\n",
       " 'all',\n",
       " 'which',\n",
       " 'against',\n",
       " 't',\n",
       " 'hadn',\n",
       " 'he',\n",
       " 'no',\n",
       " 'their',\n",
       " 'and',\n",
       " \"won't\",\n",
       " 'by',\n",
       " 'what',\n",
       " 'but',\n",
       " 'm',\n",
       " 's',\n",
       " 'into',\n",
       " \"couldn't\",\n",
       " 'is',\n",
       " 'this',\n",
       " 'with',\n",
       " 'y',\n",
       " 'the',\n",
       " 'she',\n",
       " 'while',\n",
       " 'our',\n",
       " 'there',\n",
       " 'than',\n",
       " 'at',\n",
       " \"that'll\",\n",
       " 'your',\n",
       " 'will',\n",
       " 'after',\n",
       " 'where',\n",
       " 'do',\n",
       " 'any',\n",
       " \"don't\",\n",
       " \"she's\",\n",
       " 'has',\n",
       " 'each']"
      ]
     },
     "execution_count": 32,
     "metadata": {},
     "output_type": "execute_result"
    }
   ],
   "source": [
    "stopwords"
   ]
  },
  {
   "cell_type": "markdown",
   "id": "63896001",
   "metadata": {},
   "source": [
    "#stemming\n",
    "-To reduce the root words."
   ]
  },
  {
   "cell_type": "code",
   "execution_count": 33,
   "id": "325d30ef",
   "metadata": {},
   "outputs": [],
   "source": [
    "from nltk.stem import PorterStemmer"
   ]
  },
  {
   "cell_type": "code",
   "execution_count": 34,
   "id": "07800923",
   "metadata": {},
   "outputs": [],
   "source": [
    "from nltk.tokenize import sent_tokenize,word_tokenize"
   ]
  },
  {
   "cell_type": "code",
   "execution_count": 35,
   "id": "90abe5b2",
   "metadata": {},
   "outputs": [],
   "source": [
    "ps=PorterStemmer()"
   ]
  },
  {
   "cell_type": "code",
   "execution_count": 36,
   "id": "5cb16ebc",
   "metadata": {},
   "outputs": [],
   "source": [
    "ex_word=[\"python\",\"pythoner\",\"pythoning\",\"pythoned\",\"pythons\"]"
   ]
  },
  {
   "cell_type": "code",
   "execution_count": 38,
   "id": "69f8a3f8",
   "metadata": {},
   "outputs": [
    {
     "name": "stdout",
     "output_type": "stream",
     "text": [
      "python\n",
      "python\n",
      "python\n",
      "python\n",
      "python\n"
     ]
    }
   ],
   "source": [
    "for w in ex_word:\n",
    "    print(ps.stem(w))"
   ]
  },
  {
   "cell_type": "code",
   "execution_count": 39,
   "id": "db5272c0",
   "metadata": {},
   "outputs": [
    {
     "data": {
      "text/plain": [
       "[('This', 'DET'),\n",
       " ('is', 'VERB'),\n",
       " ('one', 'NUM'),\n",
       " ('simple', 'ADJ'),\n",
       " ('example', 'NOUN'),\n",
       " ('.', '.')]"
      ]
     },
     "execution_count": 39,
     "metadata": {},
     "output_type": "execute_result"
    }
   ],
   "source": [
    "import nltk\n",
    "from nltk import word_tokenize\n",
    "text=\"This is one simple example.\"\n",
    "tokens=word_tokenize(text)\n",
    "tags=nltk.pos_tag(tokens,tagset=\"universal\")\n",
    "tags"
   ]
  },
  {
   "cell_type": "code",
   "execution_count": null,
   "id": "e5993f16",
   "metadata": {},
   "outputs": [],
   "source": []
  },
  {
   "cell_type": "code",
   "execution_count": null,
   "id": "538e6ff0",
   "metadata": {},
   "outputs": [],
   "source": []
  }
 ],
 "metadata": {
  "kernelspec": {
   "display_name": "Python 3 (ipykernel)",
   "language": "python",
   "name": "python3"
  },
  "language_info": {
   "codemirror_mode": {
    "name": "ipython",
    "version": 3
   },
   "file_extension": ".py",
   "mimetype": "text/x-python",
   "name": "python",
   "nbconvert_exporter": "python",
   "pygments_lexer": "ipython3",
   "version": "3.10.5"
  }
 },
 "nbformat": 4,
 "nbformat_minor": 5
}
